{
 "cells": [
  {
   "cell_type": "code",
   "execution_count": null,
   "metadata": {},
   "outputs": [],
   "source": [
    "import ROOT\n",
    "from ROOT import TObject, TH1F, array, TMath\n",
    "import numpy as np\n",
    "\n",
    "#from root you can import TH1F whcih we will use to make histograms and other useful fucntions\n",
    "\n",
    "%jsroot on\n"
   ]
  },
  {
   "cell_type": "code",
   "execution_count": null,
   "metadata": {},
   "outputs": [],
   "source": [
    "f = ROOT.TFile.Open(\"https://atlas-opendata.web.cern.ch/atlas-opendata/samples/2020/1lep/MC/mc_361103.Wminusenu.1lep.root\")\n",
    "tree=f.Get('mini')"
   ]
  },
  {
   "cell_type": "code",
   "execution_count": null,
   "metadata": {},
   "outputs": [],
   "source": [
    "n=0\n",
    "for event in tree:\n",
    "    n+=1\n",
    "    #increments the event number\n",
    "    if n%100000==0:\n",
    "        print(n)\n",
    "        #will print every 100,000 event\n",
    "        \n",
    "    if event.lep_n==0:\n",
    "        continue\n",
    "        #if the number fo leptons in the event is 0 then continue to next event\n",
    "    lepx=(event.lep_pt[0]*np.cos(event.lep_phi[0])/1000.0)\n",
    "    lepy=(event.lep_pt[0]*np.sin(event.lep_phi[0])/1000.0)\n",
    "\n",
    "    energy=(event.lep_E[0])/1000.0\n",
    "    \n",
    "    Mt_e=np.sqrt(energy**2-lep_x**2-lep_y**2)\n",
    "    hist3.Fill(Mt_e)\n",
    "    if n>10000000:\n",
    "        break\n",
    "        #stops after 10,000,000 asthere is aorund 9-10 million events\n",
    "print(n)\n",
    "hist3.Draw()\n",
    "canvas3.Draw()\n"
   ]
  },
  {
   "cell_type": "code",
   "execution_count": null,
   "metadata": {},
   "outputs": [],
   "source": []
  },
  {
   "cell_type": "code",
   "execution_count": null,
   "metadata": {},
   "outputs": [],
   "source": []
  },
  {
   "cell_type": "code",
   "execution_count": null,
   "metadata": {},
   "outputs": [],
   "source": []
  },
  {
   "cell_type": "code",
   "execution_count": null,
   "metadata": {},
   "outputs": [],
   "source": []
  }
 ],
 "metadata": {
  "kernelspec": {
   "display_name": "Python 3",
   "language": "python",
   "name": "python3"
  },
  "language_info": {
   "codemirror_mode": {
    "name": "ipython",
    "version": 3
   },
   "file_extension": ".py",
   "mimetype": "text/x-python",
   "name": "python",
   "nbconvert_exporter": "python",
   "pygments_lexer": "ipython3",
   "version": "3.7.6"
  }
 },
 "nbformat": 4,
 "nbformat_minor": 4
}
