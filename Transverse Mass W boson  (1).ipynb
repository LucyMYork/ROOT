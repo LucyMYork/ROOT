{
 "cells": [
  {
   "cell_type": "code",
   "execution_count": null,
   "metadata": {},
   "outputs": [],
   "source": []
  },
  {
   "cell_type": "code",
   "execution_count": 2,
   "metadata": {},
   "outputs": [
    {
     "ename": "ModuleNotFoundError",
     "evalue": "No module named 'ROOT'",
     "output_type": "error",
     "traceback": [
      "\u001b[1;31m---------------------------------------------------------------------------\u001b[0m",
      "\u001b[1;31mModuleNotFoundError\u001b[0m                       Traceback (most recent call last)",
      "\u001b[1;32m<ipython-input-2-40e81c305e55>\u001b[0m in \u001b[0;36m<module>\u001b[1;34m\u001b[0m\n\u001b[1;32m----> 1\u001b[1;33m \u001b[1;32mimport\u001b[0m \u001b[0mROOT\u001b[0m\u001b[1;33m\u001b[0m\u001b[1;33m\u001b[0m\u001b[0m\n\u001b[0m\u001b[0;32m      2\u001b[0m \u001b[1;32mfrom\u001b[0m \u001b[0mROOT\u001b[0m \u001b[1;32mimport\u001b[0m \u001b[0mTObject\u001b[0m\u001b[1;33m,\u001b[0m \u001b[0mTH1F\u001b[0m\u001b[1;33m,\u001b[0m \u001b[0marray\u001b[0m\u001b[1;33m,\u001b[0m \u001b[0mTMath\u001b[0m\u001b[1;33m\u001b[0m\u001b[1;33m\u001b[0m\u001b[0m\n\u001b[0;32m      3\u001b[0m \u001b[1;33m\u001b[0m\u001b[0m\n\u001b[0;32m      4\u001b[0m \u001b[1;31m#from root you can import TH1F whcih we will use to make histograms and other useful fucntions\u001b[0m\u001b[1;33m\u001b[0m\u001b[1;33m\u001b[0m\u001b[1;33m\u001b[0m\u001b[0m\n\u001b[0;32m      5\u001b[0m \u001b[1;33m\u001b[0m\u001b[0m\n",
      "\u001b[1;31mModuleNotFoundError\u001b[0m: No module named 'ROOT'"
     ]
    }
   ],
   "source": [
    "import ROOT\n",
    "from ROOT import TObject, TH1F, array, TMath\n",
    "import numpy\n",
    "\n",
    "#from root you can import TH1F whcih we will use to make histograms and other useful fucntions\n",
    "\n",
    "%jsroot on\n",
    "\n",
    "f = ROOT.TFile.Open(\"https://atlas-opendata.web.cern.ch/atlas-opendata/samples/2020/1lep/MC/mc_361103.Wminusenu.1lep.root\")\n",
    "#open tnhe open data files - start with the MC data for 1 lepton evetns in the W- --> e- nu decay\n",
    "\n",
    "#create the plot space sing TCanvas\n",
    "canvas=ROOT.TCanvas(\"Cavas\",\"Transverse Momentum of e- vs Number of Events\",800,600)\n",
    "\n",
    "#get data out of root file by defining the tree\n",
    "tree=f.Get('mini')\n",
    "\n",
    "#find out how many entries are contained within the tree \n",
    "tree.GetEntries()\n",
    "\n",
    "#from these entries we need to find which of these entires corresponds to a W decay inot an electron\n",
    "#cut the data so that we only have single lepton events with a negatvie charge \n",
    "#will also need to slect only electron data \n",
    "\n",
    "#create the empty histogram - transverse moemntum bins on the x axis/ frequency (number of events) on the y axis\n",
    "hist = ROOT.TH1F(\"transmomhist\",\"Transverse Momentum of Electrons ; Number of Events; Transverse Moentum of e- {GeV}\",100,20,120)\n",
    "#we will start the bins at 20 as the events are filtered so there is no transvers emomentum below 25GeV\n",
    "\n",
    "#use the branch lep_pt to get the lepton transverse momentum\n",
    "for event in tree:\n",
    "    \n",
    "    #print(event.lep_pt)\n",
    "    hist.Fill(tree.lep_pt[0]/1000)\n",
    "#divide by 1000 to get inot GeV\n",
    "hist.Draw()\n",
    "canvas.Draw()\n",
    "\n"
   ]
  },
  {
   "cell_type": "code",
   "execution_count": null,
   "metadata": {},
   "outputs": [],
   "source": [
    "#Next we can plot the transverse mass of the eldctron so get a vlaue of the W mass\n",
    "#find the invariant mass and remove the z component \n"
   ]
  },
  {
   "cell_type": "code",
   "execution_count": null,
   "metadata": {},
   "outputs": [],
   "source": [
    "# step 1 - plot the missing transvere momentum\n",
    "\n",
    "canvas2 =ROOT.TCanvas(\"Cavas2\",\"Missing Transverse Momentum\",800,600)\n",
    "hist2 = ROOT.TH1F(\"MET\",\"Missing Transverse Momentum ; Number of Events; Missing Transverse Momentum {GeV}\",100,20,120)\n",
    "#create a new canvas and histogram"
   ]
  },
  {
   "cell_type": "code",
   "execution_count": null,
   "metadata": {},
   "outputs": [],
   "source": [
    "for event in tree:\n",
    "    hist2.Fill(tree.met_et/1000)\n",
    "    \n",
    "hist2.Draw()\n",
    "canvas2.Draw()"
   ]
  },
  {
   "cell_type": "code",
   "execution_count": 1,
   "metadata": {},
   "outputs": [
    {
     "ename": "NameError",
     "evalue": "name 'ROOT' is not defined",
     "output_type": "error",
     "traceback": [
      "\u001b[1;31m---------------------------------------------------------------------------\u001b[0m",
      "\u001b[1;31mNameError\u001b[0m                                 Traceback (most recent call last)",
      "\u001b[1;32m<ipython-input-1-4acf65460a7d>\u001b[0m in \u001b[0;36m<module>\u001b[1;34m\u001b[0m\n\u001b[0;32m      1\u001b[0m \u001b[1;31m#using the same data set we can now fidn the invaiant mass of the electron evetns\u001b[0m\u001b[1;33m\u001b[0m\u001b[1;33m\u001b[0m\u001b[1;33m\u001b[0m\u001b[0m\n\u001b[0;32m      2\u001b[0m \u001b[1;31m#define the lorentz vetors\u001b[0m\u001b[1;33m\u001b[0m\u001b[1;33m\u001b[0m\u001b[1;33m\u001b[0m\u001b[0m\n\u001b[1;32m----> 3\u001b[1;33m \u001b[0melectron\u001b[0m\u001b[1;33m=\u001b[0m\u001b[0mROOT\u001b[0m\u001b[1;33m.\u001b[0m\u001b[0mTLorentzVector\u001b[0m\u001b[1;33m(\u001b[0m\u001b[1;33m)\u001b[0m\u001b[1;33m\u001b[0m\u001b[1;33m\u001b[0m\u001b[0m\n\u001b[0m\u001b[0;32m      4\u001b[0m \u001b[1;33m\u001b[0m\u001b[0m\n\u001b[0;32m      5\u001b[0m \u001b[1;32mfor\u001b[0m \u001b[0mevents\u001b[0m \u001b[1;32min\u001b[0m \u001b[0mtree\u001b[0m\u001b[1;33m:\u001b[0m\u001b[1;33m\u001b[0m\u001b[1;33m\u001b[0m\u001b[0m\n",
      "\u001b[1;31mNameError\u001b[0m: name 'ROOT' is not defined"
     ]
    }
   ],
   "source": [
    "#step 2 - find the missing transverse momentum\n",
    "# for each event in the tree, will need to resolve the met_et value in both directions usign met_phi\n",
    "\n",
    "#define a new canvas and histogram for this plot\n",
    "canvas3=ROOT.TCanvas(\"Canvas3\",\"Transverse Mass\",800,600)\n",
    "hist3=ROOT.TH1F(\"Transverse Mass\", \"Transverse mass of W boson; Number of events; Transverse Mass {GeV}\",100,10,200)\n",
    "\n",
    "for event in tree:\n",
    "    MTPx=tree.met_et*np.cos(tree.met_phi)\n",
    "    MTPy=tree.met_et*np.sin(tree.met_phi)\n",
    "    #define the x and y components of the missign transverse momentum\n",
    "    Pex=tree.lep_pt[0]*np.cos(tree.lep_phi)\n",
    "    Pey=tree.lep_pt[0]*np.sin(tree.lep_phi)\n",
    "    #define the x and y components of the trans verse momentum of the electron\n",
    "    #now fidn the total momentum by vector addition\n",
    "    MTP=np.array([MTPx,MTPy])\n",
    "    Pe=np.array([Pex,Pey])\n",
    "    #find total momentum\n",
    "    Ptot=MTP+Pe\n",
    "    #square and find the magnitude to use later\n",
    "    Ptotsq=Ptot**2\n",
    "    magPtotsq= round(np.sqrt(Ptotsq[0]**2+Ptotsq[1]**2))\n",
    "    #find the enrgy of the total system\n",
    "    Etot=tree.lep_pt[0]+tree.met_et\n",
    "    #calculate the transverse mass \n",
    "    Mt= np.sqrt((Etot**2)-(magPtotsq))\n",
    "    \n",
    "    hist3.Fill(Mt)\n",
    "    \n",
    "hist3.Draw()\n",
    "canvas3.Draw()\n",
    "\n"
   ]
  },
  {
   "cell_type": "code",
   "execution_count": null,
   "metadata": {},
   "outputs": [],
   "source": [
    "#using the same data set we can now find the invaiant mass of the electron evetns \n",
    "#define the lorentz vetors\n",
    "electron=ROOT.TLorentzVector()\n",
    "\n",
    "for events in tree:\n",
    "    \n",
    "    print(tree.met_et)\n",
    "    print(tree.met_phi)"
   ]
  },
  {
   "cell_type": "code",
   "execution_count": null,
   "metadata": {},
   "outputs": [],
   "source": []
  },
  {
   "cell_type": "code",
   "execution_count": null,
   "metadata": {},
   "outputs": [],
   "source": []
  },
  {
   "cell_type": "code",
   "execution_count": null,
   "metadata": {},
   "outputs": [],
   "source": []
  },
  {
   "cell_type": "code",
   "execution_count": null,
   "metadata": {},
   "outputs": [],
   "source": []
  },
  {
   "cell_type": "code",
   "execution_count": null,
   "metadata": {},
   "outputs": [],
   "source": []
  }
 ],
 "metadata": {
  "kernelspec": {
   "display_name": "Python 3",
   "language": "python",
   "name": "python3"
  },
  "language_info": {
   "codemirror_mode": {
    "name": "ipython",
    "version": 3
   },
   "file_extension": ".py",
   "mimetype": "text/x-python",
   "name": "python",
   "nbconvert_exporter": "python",
   "pygments_lexer": "ipython3",
   "version": "3.7.6"
  }
 },
 "nbformat": 4,
 "nbformat_minor": 4
}
