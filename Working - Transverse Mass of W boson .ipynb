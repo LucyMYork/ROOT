{
 "cells": [
  {
   "cell_type": "code",
   "execution_count": null,
   "metadata": {},
   "outputs": [],
   "source": [
    "import ROOT\n",
    "from ROOT import TObject, TH1F, array, TMath\n",
    "import numpy as np\n",
    "\n",
    "#from root you can import TH1F whcih we will use to make histograms and other useful fucntions\n",
    "\n",
    "%jsroot on\n"
   ]
  },
  {
   "cell_type": "code",
   "execution_count": null,
   "metadata": {},
   "outputs": [],
   "source": [
    "f = ROOT.TFile.Open(\"https://atlas-opendata.web.cern.ch/atlas-opendata/samples/2020/1lep/MC/mc_361103.Wminusenu.1lep.root\")\n",
    "tree=f.Get('mini')"
   ]
  },
  {
   "cell_type": "code",
   "execution_count": null,
   "metadata": {},
   "outputs": [],
   "source": [
    "#step 2 - find the missing transverse momentum\n",
    "# for each event in the tree, will need to resolve the met_et value in both directions usign met_phi\n",
    "\n",
    "#define a new canvas and histogram for this plot\n",
    "canvas3=ROOT.TCanvas(\"Canvas3\",\"Transverse Mass\",800,600)\n",
    "hist3=ROOT.TH1F(\"Transverse Mass\", \"Transverse mass of W boson; Transverse Mass (GeV); Number of Events\",200,0,200)"
   ]
  },
  {
   "cell_type": "code",
   "execution_count": null,
   "metadata": {},
   "outputs": [],
   "source": [
    "#try usign ptetzphiM vector"
   ]
  },
  {
   "cell_type": "code",
   "execution_count": null,
   "metadata": {},
   "outputs": [],
   "source": []
  },
  {
   "cell_type": "code",
   "execution_count": null,
   "metadata": {},
   "outputs": [],
   "source": []
  },
  {
   "cell_type": "code",
   "execution_count": null,
   "metadata": {},
   "outputs": [],
   "source": []
  },
  {
   "cell_type": "code",
   "execution_count": null,
   "metadata": {},
   "outputs": [],
   "source": [
    "##WORKING \n",
    "\n",
    "n=0\n",
    "for event in tree:\n",
    "    n+=1\n",
    "    if n%1000==0:\n",
    "        \n",
    "        print(n)\n",
    "     \n",
    "        ###combine the previous equations into the arrays to reduce the ammount of memory used\n",
    "\n",
    "        #MTP=np.array([(event.met_et*np.cos(event.met_phi)),(event.met_et*np.sin(event.met_phi))])\n",
    "        #Pe=np.array([(event.lep_pt[0]*np.cos(event.lep_phi)),(event.lep_pt[0]*np.sin(event.lep_phi))])\n",
    "\n",
    "        #find total momentum\n",
    "\n",
    "        #Ptot=np.array([MTP[0]+Pe[0],MTP[1]+Pe[1]])\n",
    "        #square and find the magnitude to use later\n",
    "        #Ptotsq=np.array([Ptot[0]**2,Ptot[1]**2])\n",
    "\n",
    "        ###combine the previous steps to reduce the number of arrays stored to memory \n",
    "\n",
    "        #magPtotsq=np.sqrt(((MTP[0]+Pe[0])**2)**2+((MTP[1]+Pe[1])**2)**2)\n",
    "\n",
    "        #Mt= ((np.sqrt(((event.lep_pt[0]+event.met_et)**2)-(magPtotsq)))/1000)\n",
    "    if event.lep_n==0:\n",
    "        continue\n",
    "    lepx=(event.lep_pt[0]*np.cos(event.lep_phi[0])/1000.0)\n",
    "    lepy=(event.lep_pt[0]*np.sin(event.lep_phi[0])/1000.0)\n",
    "    metx=(event.met_et*np.cos(event.met_phi))/1000.0\n",
    "    mety=(event.met_et*np.sin(event.met_phi))/1000.0\n",
    "    energy=(event.lep_pt[0]+event.met_et)/1000.0\n",
    "    px=lepx+metx\n",
    "    py=lepy+mety\n",
    "    \n",
    "    Mt=np.sqrt(energy**2-px**2-py**2)\n",
    "    hist3.Fill(Mt)\n",
    "    if n>1000000:\n",
    "        break\n",
    "print(n)\n",
    "hist3.Draw()\n",
    "canvas3.Draw()\n"
   ]
  }
 ],
 "metadata": {
  "kernelspec": {
   "display_name": "Python 3",
   "language": "python",
   "name": "python3"
  },
  "language_info": {
   "codemirror_mode": {
    "name": "ipython",
    "version": 3
   },
   "file_extension": ".py",
   "mimetype": "text/x-python",
   "name": "python",
   "nbconvert_exporter": "python",
   "pygments_lexer": "ipython3",
   "version": "3.7.6"
  }
 },
 "nbformat": 4,
 "nbformat_minor": 4
}
