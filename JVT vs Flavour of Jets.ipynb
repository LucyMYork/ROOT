{
 "cells": [
  {
   "cell_type": "code",
   "execution_count": null,
   "metadata": {},
   "outputs": [],
   "source": [
    "import ROOT\n",
    "from ROOT import TObject, TH1F, array, TMath\n",
    "import numpy as np\n",
    "\n",
    "#from root you can import TH1F whcih we will use to make histograms and other useful fucntions\n",
    "\n",
    "%jsroot on\n"
   ]
  },
  {
   "cell_type": "code",
   "execution_count": null,
   "metadata": {},
   "outputs": [],
   "source": [
    "#need to use the data set with jets in it \n",
    "\n",
    "f = ROOT.TFile.Open(\"https://atlas-opendata.web.cern.ch/atlas-opendata/samples/2020/1lep/MC/mc_361103.Wminusenu.1lep.root\")\n",
    "tree=f.Get('mini')"
   ]
  },
  {
   "cell_type": "code",
   "execution_count": null,
   "metadata": {},
   "outputs": [],
   "source": [
    "#create histogram\n",
    "canvas=ROOT.TCanvas(\"Canvas\",\"JVT vs flavour\",800,600)\n",
    "hist=ROOT.TH1F(\"JVTvsFlavour\", \"Flavour vs JVT of Jets; JVT; Number of Events\",5,0,5)"
   ]
  },
  {
   "cell_type": "code",
   "execution_count": null,
   "metadata": {},
   "outputs": [],
   "source": [
    "#the first plot will be to plot jet flavour over JVT\n",
    "\n",
    "#pritn the jvt and jetflavour to see what format they appear in \n",
    "\n",
    "#create hsitogram for when JVT is 5\n",
    "n=0\n",
    "for event in tree:\n",
    "    n+=1\n",
    "    if n>100000:\n",
    "        break\n",
    "    if n%1000==0:\n",
    "        print(n)\n",
    "    #if event.jet_n==0:\n",
    "        #continue\n",
    "        \n",
    "    #use only single jet events for now \n",
    "    #if tree.jet_n!=1:\n",
    "        #continue\n",
    "    #if tree.jet_n==1:\n",
    "    #print(tree.jet_n)\n",
    "    \n",
    "    #if tree.jet_jvt[0]!=5:\n",
    "        #continue\n",
    "    #require a JVT of 5 at first \n",
    "    #if tree.jet_jvt[0]==5:\n",
    "    \n",
    "    if tree.jet_n>=1:\n",
    "        \n",
    "        #print(tree.jet_trueflav[0])\n",
    "        #print(tree.jet_jvt[0])\n",
    "       # print(tree.jet_n)\n",
    "\n",
    "        hist.Fill(tree.jet_trueflav[0])\n",
    "        \n",
    "        \n",
    "\n",
    "                  \n",
    "hist.Draw()\n",
    "canvas.Draw()\n"
   ]
  },
  {
   "cell_type": "code",
   "execution_count": null,
   "metadata": {},
   "outputs": [],
   "source": [
    "#step 1: histogram for number of jets in the event"
   ]
  },
  {
   "cell_type": "code",
   "execution_count": null,
   "metadata": {},
   "outputs": [],
   "source": [
    "canvas2=ROOT.TCanvas(\"Canvas2\",\"Number of Jets\",800,600)\n",
    "hist2=ROOT.TH1F(\"Number of Jets\", \"Number of Jets in 1 lepton + jet Events; Number of Jets; Number of Events\",5,0,5)"
   ]
  },
  {
   "cell_type": "code",
   "execution_count": null,
   "metadata": {},
   "outputs": [],
   "source": [
    "n=0\n",
    "for event in tree:\n",
    "    n+=1\n",
    "    if n>10000000:\n",
    "        break\n",
    "    if n%1000000==0:\n",
    "        print(n)\n",
    "\n",
    "    hist2.Fill(tree.jet_n)\n",
    "        \n",
    "        \n",
    "\n",
    "                  \n",
    "hist2.Draw()\n",
    "canvas2.Draw()"
   ]
  },
  {
   "cell_type": "code",
   "execution_count": null,
   "metadata": {},
   "outputs": [],
   "source": [
    "#step 2: Histogram of flavour for EVERY jet in the event "
   ]
  },
  {
   "cell_type": "code",
   "execution_count": null,
   "metadata": {},
   "outputs": [],
   "source": [
    "canvas3=ROOT.TCanvas(\"Canvas3\",\"Number of Jets\",800,600)\n",
    "hist3=ROOT.TH1F(\"Flavour of Jets\", \"Flavour of Jets in 1 lepton + jet Events; Flavour of Jets; Number of Events\",6,0,6)"
   ]
  },
  {
   "cell_type": "code",
   "execution_count": null,
   "metadata": {},
   "outputs": [],
   "source": [
    "#fill the histogram with flavour form every jet - loop over the jets\n",
    "\n",
    "n=0\n",
    "for event in tree:\n",
    "    n+=1\n",
    "    if n>100:\n",
    "        break\n",
    "    if n%10==0:\n",
    "        #print(tree.jet_trueflav)\n",
    "        \n",
    "    x=len(tree.jet_trueflav)\n",
    "    #define x as being the length of the vector \n",
    "    if x>=1:\n",
    "        #print(x)\n",
    "        y=0\n",
    "        #set y as the counting variable in the next loop\n",
    "        while y<x:\n",
    "            #print(y)\n",
    "            #print(tree.jet_trueflav[y])\n",
    "            hist3.Fill(tree.jet_trueflav[y])\n",
    "            y+=1\n",
    "    else:\n",
    "        continue\n",
    "\n",
    "                  \n",
    "hist3.Draw()\n",
    "canvas3.Draw()"
   ]
  },
  {
   "cell_type": "code",
   "execution_count": null,
   "metadata": {},
   "outputs": [],
   "source": [
    "#step 3: make histograms for the value of flavour 0"
   ]
  },
  {
   "cell_type": "code",
   "execution_count": null,
   "metadata": {},
   "outputs": [],
   "source": [
    "canvas4=ROOT.TCanvas(\"Canvas4\",\"JVT values for Flavour 0 jets\",800,600)\n",
    "hist4=ROOT.TH1F(\"JVT for Flavour 0 jets\", \"JVT for flavour 0 jets; JVT; Number of Events\",120,0,1.2)"
   ]
  },
  {
   "cell_type": "code",
   "execution_count": null,
   "metadata": {},
   "outputs": [],
   "source": [
    "n=0\n",
    "for event in tree:\n",
    "    n+=1\n",
    "    if n>10000000:\n",
    "        break\n",
    "    if n%1000000==0:\n",
    "        print(n)\n",
    "        \n",
    "    x=len(tree.jet_trueflav)\n",
    "    #define x as being the length of the vector \n",
    "    if x>=1:\n",
    "        #print(x)\n",
    "        y=0\n",
    "        #set y as the counting variable in the next loop\n",
    "        while y<x:\n",
    "            if tree.jet_trueflav[y]==0:\n",
    "                #print(tree.jet_jvt[y])\n",
    "                hist4.Fill(tree.jet_jvt[y])   \n",
    "            else:\n",
    "                break\n",
    "            y+=1\n",
    "        \n",
    "    else:\n",
    "        continue\n",
    "\n",
    "                  \n",
    "hist4.Draw()\n",
    "canvas4.Draw()\n",
    "\n",
    "#change from zero to 4 and 5 for the toher histograms"
   ]
  },
  {
   "cell_type": "code",
   "execution_count": null,
   "metadata": {},
   "outputs": [],
   "source": [
    "#for flavour 4"
   ]
  },
  {
   "cell_type": "code",
   "execution_count": null,
   "metadata": {},
   "outputs": [],
   "source": [
    "canvas5=ROOT.TCanvas(\"Canvas5\",\"JVT values for Flavour 4 jets\",800,600)\n",
    "hist5=ROOT.TH1F(\"JVT for Flavour 4 jets\", \"JVT for flavour 4 jets; JVT; Number of Events\",1200,0,1.2)"
   ]
  },
  {
   "cell_type": "code",
   "execution_count": null,
   "metadata": {},
   "outputs": [],
   "source": [
    "n=0\n",
    "for event in tree:\n",
    "    n+=1\n",
    "    if n>10000000:\n",
    "        break\n",
    "    if n%1000000==0:\n",
    "        print(n)\n",
    "        \n",
    "    x=len(tree.jet_trueflav)\n",
    "    #define x as being the length of the vector \n",
    "    if x>=1:\n",
    "        #print(x)\n",
    "        y=0\n",
    "        #set y as the counting variable in the next loop\n",
    "        while y<x:\n",
    "            if tree.jet_trueflav[y]==4:\n",
    "                #print(tree.jet_jvt[y])\n",
    "                hist5.Fill(tree.jet_jvt[y])   \n",
    "            else:\n",
    "                break\n",
    "            y+=1\n",
    "        \n",
    "    else:\n",
    "        continue\n",
    "\n",
    "                  \n",
    "hist5.Draw()\n",
    "canvas5.Draw()\n",
    "\n",
    "#change from zero to 4 and 5 for the toher histograms"
   ]
  },
  {
   "cell_type": "code",
   "execution_count": null,
   "metadata": {},
   "outputs": [],
   "source": [
    "#for flavour 5 "
   ]
  },
  {
   "cell_type": "code",
   "execution_count": null,
   "metadata": {},
   "outputs": [],
   "source": [
    "canvas6=ROOT.TCanvas(\"Canvas6\",\"JVT values for Flavour 5 jets\",800,600)\n",
    "hist6=ROOT.TH1F(\"JVT for Flavour 5 jets\", \"JVT for flavour 5 jets; JVT; Number of Events\",120,0,1.2)"
   ]
  },
  {
   "cell_type": "code",
   "execution_count": null,
   "metadata": {},
   "outputs": [],
   "source": [
    "n=0\n",
    "for event in tree:\n",
    "    n+=1\n",
    "    if n>10000000:\n",
    "        break\n",
    "    if n%1000000==0:\n",
    "        print(n)\n",
    "        \n",
    "    x=len(tree.jet_trueflav)\n",
    "    #define x as being the length of the vector \n",
    "    if x>=1:\n",
    "        #print(x)\n",
    "        y=0\n",
    "        #set y as the counting variable in the next loop\n",
    "        while y<x:\n",
    "            if tree.jet_trueflav[y]==5:\n",
    "                #print(tree.jet_jvt[y])\n",
    "                hist6.Fill(tree.jet_jvt[y])   \n",
    "            else:\n",
    "                break\n",
    "            y+=1\n",
    "        \n",
    "    else:\n",
    "        continue\n",
    "\n",
    "                  \n",
    "hist6.Draw()\n",
    "canvas6.Draw()\n",
    "\n",
    "#change from zero to 4 and 5 for the toher histograms"
   ]
  }
 ],
 "metadata": {
  "kernelspec": {
   "display_name": "Python 3",
   "language": "python",
   "name": "python3"
  },
  "language_info": {
   "codemirror_mode": {
    "name": "ipython",
    "version": 3
   },
   "file_extension": ".py",
   "mimetype": "text/x-python",
   "name": "python",
   "nbconvert_exporter": "python",
   "pygments_lexer": "ipython3",
   "version": "3.7.6"
  }
 },
 "nbformat": 4,
 "nbformat_minor": 4
}
