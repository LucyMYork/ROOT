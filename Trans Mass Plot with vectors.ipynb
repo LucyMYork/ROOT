{
 "cells": [
  {
   "cell_type": "code",
   "execution_count": null,
   "metadata": {},
   "outputs": [],
   "source": [
    "import ROOT\n",
    "from ROOT import TObject, TH1F, array, TMath\n",
    "import numpy as np\n",
    "\n",
    "#from root you can import TH1F whcih we will use to make histograms and other useful fucntions\n",
    "\n",
    "%jsroot on\n"
   ]
  },
  {
   "cell_type": "code",
   "execution_count": null,
   "metadata": {},
   "outputs": [],
   "source": [
    "f = ROOT.TFile.Open(\"https://atlas-opendata.web.cern.ch/atlas-opendata/samples/2020/1lep/MC/mc_361103.Wminusenu.1lep.root\")\n",
    "tree=f.Get('mini')"
   ]
  },
  {
   "cell_type": "code",
   "execution_count": null,
   "metadata": {},
   "outputs": [],
   "source": [
    "#step 2 - find the missing transverse momentum\n",
    "# for each event in the tree, will need to resolve the met_et value in both directions usign met_phi\n",
    "\n",
    "#define a new canvas and histogram for this plot\n",
    "canvas3=ROOT.TCanvas(\"Canvas3\",\"Transverse Mass\",800,600)\n",
    "hist3=ROOT.TH1F(\"Transverse Mass\", \"Transverse mass of W boson; Number of events; Transverse Mass {GeV}\",200,0,200)"
   ]
  },
  {
   "cell_type": "code",
   "execution_count": null,
   "metadata": {},
   "outputs": [],
   "source": [
    "#define the TLorentz Vector\n",
    "Pe=ROOT.TLorentzVector()\n",
    "MTP=ROOT.TLorentzVector()\n",
    "for event in tree:\n",
    "    #for each event, set the x,y,z and E values for the electron and neutrino\n",
    "    \n",
    "    Pe.SetPxPyPzE(tree.lep_pt[0]*np.cos(tree.lep_phi),tree.lep_pt[0]*np.sin(tree.lep_phi),0.0,tree.lep_E[0])\n",
    "    MTP.SetPxPyPzE(tree.met_et*np.cos(tree.met_phi),tree.met_et*np.sin(tree.met_phi),0.0,met_et)\n",
    "    #MTPx=tree.met_et*np.cos(tree.met_phi)\n",
    "    #MTPy=tree.met_et*np.sin(tree.met_phi)\n",
    "    \n",
    "    #define the x and y components of the missign transverse momentum\n",
    "    \n",
    "    #Pex=tree.lep_pt[0]*np.cos(tree.lep_phi)\n",
    "    #Pey=tree.lep_pt[0]*np.sin(tree.lep_phi)\n",
    "    \n",
    "    #define the x and y components of the trans verse momentum of the electron\n",
    "    #now fidn the total momentum by vector addition\n",
    "    \n",
    "    ###combine the previous equations into the arrays to reduce the ammount of memory used\n",
    "    \n",
    "    #MTP=np.array([(tree.met_et*np.cos(tree.met_phi)),(tree.met_et*np.sin(tree.met_phi))])\n",
    "    #Pe=np.array([(tree.lep_pt[0]*np.cos(tree.lep_phi)),(tree.lep_pt[0]*np.sin(tree.lep_phi))])\n",
    "    \n",
    "    #find total momentum\n",
    "    \n",
    "    #Ptot=np.array([MTP[0]+Pe[0],MTP[1]+Pe[1]])\n",
    "    #square and find the magnitude to use later\n",
    "    #Ptotsq=np.array([Ptot[0]**2,Ptot[1]**2])\n",
    "    \n",
    "    ###combine the previous steps to reduce the number of arrays stored to memory \n",
    "    \n",
    "    #magPtotsq=np.sqrt(((MTP[0]+Pe[0])**2)**2+((MTP[1]+Pe[1])**2)**2)\n",
    "    \n",
    "    #find the enrgy of the total system\n",
    "    \n",
    "    ###sub the equation for Etot into the equation for Mt\n",
    "    \n",
    "    #Etot=tree.lep_pt[0]+tree.met_et\n",
    "    #calculate the transverse mass \n",
    "    \n",
    "    #Mt= ((np.sqrt(((tree.lep_pt[0]+tree.met_et)**2)-(magPtotsq)))/1000)\n",
    "    \n",
    "    Ptot=MTP+Pe\n",
    "    #find the total momentum\n",
    "    \n",
    "    Etot=MTP[3]+Pe[4]\n",
    "    MT=n.sqrt(Etot**2-Ptot**2)\n",
    "    \n",
    "    hist3.Fill(Mt[0])\n",
    "    \n",
    "hist3.Draw()\n",
    "canvas3.Draw()\n"
   ]
  }
 ],
 "metadata": {
  "kernelspec": {
   "display_name": "Python 3",
   "language": "python",
   "name": "python3"
  },
  "language_info": {
   "codemirror_mode": {
    "name": "ipython",
    "version": 3
   },
   "file_extension": ".py",
   "mimetype": "text/x-python",
   "name": "python",
   "nbconvert_exporter": "python",
   "pygments_lexer": "ipython3",
   "version": "3.7.6"
  }
 },
 "nbformat": 4,
 "nbformat_minor": 4
}
