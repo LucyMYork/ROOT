{
 "cells": [
  {
   "cell_type": "code",
   "execution_count": null,
   "metadata": {},
   "outputs": [],
   "source": []
  },
  {
   "cell_type": "code",
   "execution_count": 2,
   "metadata": {},
   "outputs": [
    {
     "ename": "ModuleNotFoundError",
     "evalue": "No module named 'ROOT'",
     "output_type": "error",
     "traceback": [
      "\u001b[1;31m---------------------------------------------------------------------------\u001b[0m",
      "\u001b[1;31mModuleNotFoundError\u001b[0m                       Traceback (most recent call last)",
      "\u001b[1;32m<ipython-input-2-40e81c305e55>\u001b[0m in \u001b[0;36m<module>\u001b[1;34m\u001b[0m\n\u001b[1;32m----> 1\u001b[1;33m \u001b[1;32mimport\u001b[0m \u001b[0mROOT\u001b[0m\u001b[1;33m\u001b[0m\u001b[1;33m\u001b[0m\u001b[0m\n\u001b[0m\u001b[0;32m      2\u001b[0m \u001b[1;32mfrom\u001b[0m \u001b[0mROOT\u001b[0m \u001b[1;32mimport\u001b[0m \u001b[0mTObject\u001b[0m\u001b[1;33m,\u001b[0m \u001b[0mTH1F\u001b[0m\u001b[1;33m,\u001b[0m \u001b[0marray\u001b[0m\u001b[1;33m,\u001b[0m \u001b[0mTMath\u001b[0m\u001b[1;33m\u001b[0m\u001b[1;33m\u001b[0m\u001b[0m\n\u001b[0;32m      3\u001b[0m \u001b[1;33m\u001b[0m\u001b[0m\n\u001b[0;32m      4\u001b[0m \u001b[1;31m#from root you can import TH1F whcih we will use to make histograms and other useful fucntions\u001b[0m\u001b[1;33m\u001b[0m\u001b[1;33m\u001b[0m\u001b[1;33m\u001b[0m\u001b[0m\n\u001b[0;32m      5\u001b[0m \u001b[1;33m\u001b[0m\u001b[0m\n",
      "\u001b[1;31mModuleNotFoundError\u001b[0m: No module named 'ROOT'"
     ]
    }
   ],
   "source": [
    "import ROOT\n",
    "from ROOT import TObject, TH1F, array, TMath\n",
    "\n",
    "#from root you can import TH1F whcih we will use to make histograms and other useful fucntions\n",
    "\n",
    "%jsroot on\n",
    "\n",
    "f = ROOT.TFile.Open(\"https://atlas-opendata.web.cern.ch/atlas-opendata/samples/2020/1lep/MC/mc_361103.Wminusenu.1lep.root\")\n",
    "#open tnhe open data files - start with the MC data for 1 lepton evetns in the W- --> e- nu decay\n",
    "\n",
    "#create the plot space sing TCanvas\n",
    "canvas=ROOT.TCanvas(\"Cavas\",\"Transverse Momentum of e- vs Number of Events\",800,600)\n",
    "\n",
    "#get data out of root file by defining the tree\n",
    "tree=f.Get('mini')\n",
    "\n",
    "#find out how many entries are contained within the tree \n",
    "tree.GetEntries()\n",
    "\n",
    "#from these entries we need to find which of these entires corresponds to a W decay inot an electron\n",
    "#cut the data so that we only have single lepton events with a negatvie charge \n",
    "#will also need to slect only electron data \n",
    "\n",
    "#create the empty histogram - transverse moemntum bins on the x axis/ frequency (number of events) on the y axis\n",
    "hist = ROOT.TH1F(\"transmomhist\",\"Transverse Momentum of Electrons ; Number of Events; Transverse Moentum of e- {GeV}\",10,20,120)\n",
    "#we will start the bins at 20 as the events are filtered so there is no transvers emomentum below 25GeV\n",
    "\n",
    "#use the branch lep_pt to get the lepton transverse momentum\n",
    "for event in tree:\n",
    "    \n",
    "    print(event.lep_pt)\n",
    "    value=event.lep_pt\n",
    "    print(value)\n",
    "    length=len(value)\n",
    "    print(length)\n",
    "    transmom=event.lep_pt[:length-1]\n",
    "    print(transmom)\n",
    "    #hist.Fill(tree.lep_pt()/1000)\n",
    "#divide by 1000 to get inot GeV\n",
    "hist.Draw()\n",
    "canvas.Draw()\n",
    "\n"
   ]
  },
  {
   "cell_type": "code",
   "execution_count": null,
   "metadata": {},
   "outputs": [],
   "source": [
    "#Next we can plot the transverse mass of the eldctron so get a vlaue of the W mass\n",
    "#find the invariant mass and remove the z component \n"
   ]
  },
  {
   "cell_type": "code",
   "execution_count": null,
   "metadata": {},
   "outputs": [],
   "source": [
    "#using the same data set we can now fidn the invaiant mass of the electron evetns \n",
    "#define the lorentz vetors\n",
    "electron=ROOT.TLorentzVector()\n",
    "\n",
    "for events in tree:\n",
    "    "
   ]
  },
  {
   "cell_type": "code",
   "execution_count": null,
   "metadata": {},
   "outputs": [],
   "source": []
  },
  {
   "cell_type": "code",
   "execution_count": null,
   "metadata": {},
   "outputs": [],
   "source": []
  },
  {
   "cell_type": "code",
   "execution_count": null,
   "metadata": {},
   "outputs": [],
   "source": []
  },
  {
   "cell_type": "code",
   "execution_count": null,
   "metadata": {},
   "outputs": [],
   "source": []
  },
  {
   "cell_type": "code",
   "execution_count": null,
   "metadata": {},
   "outputs": [],
   "source": []
  },
  {
   "cell_type": "code",
   "execution_count": null,
   "metadata": {},
   "outputs": [],
   "source": []
  }
 ],
 "metadata": {
  "kernelspec": {
   "display_name": "Python 3",
   "language": "python",
   "name": "python3"
  },
  "language_info": {
   "codemirror_mode": {
    "name": "ipython",
    "version": 3
   },
   "file_extension": ".py",
   "mimetype": "text/x-python",
   "name": "python",
   "nbconvert_exporter": "python",
   "pygments_lexer": "ipython3",
   "version": "3.7.6"
  }
 },
 "nbformat": 4,
 "nbformat_minor": 4
}
