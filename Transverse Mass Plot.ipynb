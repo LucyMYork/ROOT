{
 "cells": [
  {
   "cell_type": "code",
   "execution_count": null,
   "metadata": {},
   "outputs": [],
   "source": [
    "import ROOT\n",
    "from ROOT import TObject, TH1F, array, TMath\n",
    "import numpy as np\n",
    "\n",
    "#from root you can import TH1F whcih we will use to make histograms and other useful fucntions\n",
    "\n",
    "%jsroot on\n"
   ]
  },
  {
   "cell_type": "code",
   "execution_count": null,
   "metadata": {},
   "outputs": [],
   "source": [
    "f = ROOT.TFile.Open(\"https://atlas-opendata.web.cern.ch/atlas-opendata/samples/2020/1lep/MC/mc_361103.Wminusenu.1lep.root\")\n",
    "tree=f.Get('mini')"
   ]
  },
  {
   "cell_type": "code",
   "execution_count": null,
   "metadata": {},
   "outputs": [],
   "source": [
    "#step 2 - find the missing transverse momentum\n",
    "# for each event in the tree, will need to resolve the met_et value in both directions usign met_phi\n",
    "\n",
    "#define a new canvas and histogram for this plot\n",
    "canvas3=ROOT.TCanvas(\"Canvas3\",\"Transverse Mass\",800,600)\n",
    "hist3=ROOT.TH1F(\"Transverse Mass\", \"Transverse mass of W boson; Number of events; Transverse Mass {GeV}\",100,10,200)"
   ]
  },
  {
   "cell_type": "code",
   "execution_count": null,
   "metadata": {},
   "outputs": [],
   "source": [
    "for event in tree:\n",
    "    MTPx=tree.met_et*np.cos(tree.met_phi)\n",
    "    MTPy=tree.met_et*np.sin(tree.met_phi)\n",
    "    #define the x and y components of the missign transverse momentum\n",
    "    Pex=tree.lep_pt[0]*np.cos(tree.lep_phi)\n",
    "    Pey=tree.lep_pt[0]*np.sin(tree.lep_phi)\n",
    "    #define the x and y components of the trans verse momentum of the electron\n",
    "    #now fidn the total momentum by vector addition\n",
    "    MTP=np.array([MTPx,MTPy])\n",
    "    Pe=np.array([Pex,Pey])\n",
    "    #find total momentum\n",
    "    Ptot=np.array([MTP[0]+Pe[0],MTP[1]+Pe[1]])\n",
    "    #square and find the magnitude to use later\n",
    "    Ptotsq=np.array([Ptot[0]**2,Ptot[1]**2])\n",
    "    magPtotsq=(np.sqrt(Ptotsq[0]**2+Ptotsq[1]**2))\n",
    "    #find the enrgy of the total system\n",
    "    Etot=tree.lep_pt[0]+tree.met_et\n",
    "    #calculate the transverse mass \n",
    "    Mt= np.sqrt((Etot**2)-(magPtotsq))\n",
    "    \n",
    "    hist3.Fill(Mt)\n",
    "    \n",
    "hist3.Draw()\n",
    "canvas3.Draw()\n"
   ]
  }
 ],
 "metadata": {
  "kernelspec": {
   "display_name": "Python 3",
   "language": "python",
   "name": "python3"
  },
  "language_info": {
   "codemirror_mode": {
    "name": "ipython",
    "version": 3
   },
   "file_extension": ".py",
   "mimetype": "text/x-python",
   "name": "python",
   "nbconvert_exporter": "python",
   "pygments_lexer": "ipython3",
   "version": "3.7.6"
  }
 },
 "nbformat": 4,
 "nbformat_minor": 4
}
